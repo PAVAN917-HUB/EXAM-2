{
 "cells": [
  {
   "cell_type": "markdown",
   "id": "3e9a8d08",
   "metadata": {},
   "source": [
    "<center><h1><font color='blue'>PAVAN(L20572136) EXAM 2 <font></h1></center>"
   ]
  },
  {
   "cell_type": "markdown",
   "id": "1b61bab1",
   "metadata": {},
   "source": [
    "PROBLEM 1"
   ]
  },
  {
   "cell_type": "code",
   "execution_count": 32,
   "id": "e463be94",
   "metadata": {},
   "outputs": [],
   "source": [
    "from sympy import *\n",
    "A, L, I, E = symbols('A L I E')\n",
    "total_members = 2 # total number of members in the problem\n",
    "k = [] # array which stores stiffness matrix k for each member\n",
    "a = [] # array which stores a matrix for each member\n",
    "T = [] # array which stores T = k a for each member\n",
    "K = zeros(2) # global stiffness matrix K\n",
    "S = [] # member forces\n",
    "R = Matrix([[0], [7]]) # structure force matrix"
   ]
  },
  {
   "cell_type": "code",
   "execution_count": 33,
   "id": "4d118385",
   "metadata": {},
   "outputs": [],
   "source": [
    "a.append(Matrix([                 #DEFINING A AND K FOR EACH MEMBER\n",
    "    [1, 2],\n",
    "    ])) # a1\n",
    "a.append(Matrix([\n",
    "    [2, 3],\n",
    "    ])) # a2\n",
    "a.append(Matrix([\n",
    "    [1, 4],\n",
    "    ])) # a3\n",
    "a.append(Matrix([\n",
    "    [2, 4],\n",
    "    ])) # a4\n",
    "a.append(Matrix([\n",
    "    [2, 5],\n",
    "    ])) # a5\n",
    "a.append(Matrix([\n",
    "    [3, 5],\n",
    "    ])) # a6\n",
    "a.append(Matrix([\n",
    "    [4, 5],\n",
    "    ])) # a7\n",
    "k.append(Matrix([\n",
    "    [E*A/L],\n",
    "    ])) # k1\n",
    "k.append(Matrix([\n",
    "    [E*A/L],\n",
    "    ])) # k2\n",
    "k.append(Matrix([\n",
    "    [E*A/L],\n",
    "    ])) # give k3\n"
   ]
  },
  {
   "cell_type": "code",
   "execution_count": 34,
   "id": "8c3ded05",
   "metadata": {},
   "outputs": [],
   "source": [
    "for i in range(total_members):\n",
    "    T.append(k[i]*a[i])\n",
    "    K += a[i].T*T[i]"
   ]
  },
  {
   "cell_type": "code",
   "execution_count": 35,
   "id": "12000397",
   "metadata": {},
   "outputs": [],
   "source": [
    "r = K.inv()*R"
   ]
  },
  {
   "cell_type": "code",
   "execution_count": 36,
   "id": "1cd0034f",
   "metadata": {},
   "outputs": [
    {
     "name": "stdout",
     "output_type": "stream",
     "text": [
      "S1:\n",
      "[14]\n",
      "S2:\n",
      "[-7]\n"
     ]
    }
   ],
   "source": [
    "for i in range(total_members):           #member forces\n",
    "    S.append(T[i]*r)\n",
    "for i in range(total_members):\n",
    "    print('S{}:'.format(i + 1))\n",
    "    pprint(S[i])"
   ]
  },
  {
   "cell_type": "markdown",
   "id": "600fda59",
   "metadata": {},
   "source": [
    "REFERENCE https://medium.com/@parsoyaarihant/solving-truss-problem-using-sympy-matrix-stiffness-approach-de02bd111517"
   ]
  },
  {
   "cell_type": "markdown",
   "id": "4211c6d5",
   "metadata": {},
   "source": [
    "PROBLEM 2"
   ]
  },
  {
   "cell_type": "code",
   "execution_count": 12,
   "id": "8a3536c7",
   "metadata": {},
   "outputs": [],
   "source": [
    "#GIVEN data                # r  = datum \n",
    "import math               #  n = sample population\n",
    "import numpy as np\n",
    "from matplotlib import pyplot as plt\n",
    "# Define function F(x)\n",
    "def f(r, n):\n",
    "    r = 190.22\n",
    "    n = 3648\n",
    "    Fx = r-0.44/n+0.12\n",
    "    return(Fx)\n"
   ]
  },
  {
   "cell_type": "code",
   "execution_count": 16,
   "id": "a76e80bf",
   "metadata": {},
   "outputs": [
    {
     "ename": "SyntaxError",
     "evalue": "invalid syntax (1029985987.py, line 6)",
     "output_type": "error",
     "traceback": [
      "\u001b[1;36m  File \u001b[1;32m\"C:\\Users\\917pa\\AppData\\Local\\Temp\\ipykernel_10624\\1029985987.py\"\u001b[1;36m, line \u001b[1;32m6\u001b[0m\n\u001b[1;33m    elif function == 'CDF':\u001b[0m\n\u001b[1;37m    ^\u001b[0m\n\u001b[1;31mSyntaxError\u001b[0m\u001b[1;31m:\u001b[0m invalid syntax\n"
     ]
    }
   ],
   "source": [
    "import matplotlib.pyplot as plt\n",
    "data = dist.random_samples(1000,seed=1)\n",
    "functions = ['CDF']\n",
    "i = 0\n",
    "for function in functions:\n",
    "    elif function == 'CDF':\n",
    "        dist.CDF()\n",
    "   \n",
    "    plot_points(failures=data,func=function)\n",
    "    plt.title(function)\n",
    "    i+=1\n",
    "plt.gcf().set_size_inches(10,1)\n",
    "plt.tight_layout()\n",
    "plt.show()"
   ]
  },
  {
   "cell_type": "code",
   "execution_count": null,
   "id": "a1861e15",
   "metadata": {},
   "outputs": [],
   "source": []
  }
 ],
 "metadata": {
  "kernelspec": {
   "display_name": "Python 3 (ipykernel)",
   "language": "python",
   "name": "python3"
  },
  "language_info": {
   "codemirror_mode": {
    "name": "ipython",
    "version": 3
   },
   "file_extension": ".py",
   "mimetype": "text/x-python",
   "name": "python",
   "nbconvert_exporter": "python",
   "pygments_lexer": "ipython3",
   "version": "3.8.15"
  }
 },
 "nbformat": 4,
 "nbformat_minor": 5
}
